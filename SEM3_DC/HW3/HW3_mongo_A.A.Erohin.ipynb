{
 "cells": [
  {
   "cell_type": "code",
   "execution_count": 2,
   "id": "initial_id",
   "metadata": {
    "ExecuteTime": {
     "end_time": "2024-04-21T11:34:43.613208Z",
     "start_time": "2024-04-21T11:34:43.610573Z"
    }
   },
   "outputs": [],
   "source": [
    "from pymongo import MongoClient\n",
    "import json"
   ]
  },
  {
   "cell_type": "code",
   "execution_count": 3,
   "id": "2af75160290795dc",
   "metadata": {
    "ExecuteTime": {
     "end_time": "2024-04-21T11:34:44.368636Z",
     "start_time": "2024-04-21T11:34:44.364152Z"
    }
   },
   "outputs": [],
   "source": [
    "client = MongoClient('localhost', 27017)\n",
    "db = client.HW3_Erohin_1\n",
    "book_info = db.book_info"
   ]
  },
  {
   "cell_type": "code",
   "execution_count": 4,
   "id": "2f2eb70a1b21b94b",
   "metadata": {
    "ExecuteTime": {
     "end_time": "2024-04-21T11:34:45.662994Z",
     "start_time": "2024-04-21T11:34:45.660541Z"
    }
   },
   "outputs": [],
   "source": [
    "books_data = book_info.find()"
   ]
  },
  {
   "cell_type": "markdown",
   "id": "1d38b55b84c4f37d",
   "metadata": {},
   "source": [
    "### Запросы"
   ]
  },
  {
   "cell_type": "markdown",
   "id": "9237e8934db4a090",
   "metadata": {},
   "source": [
    "Найдём общее количество документов"
   ]
  },
  {
   "cell_type": "code",
   "execution_count": 5,
   "id": "f6936e40c9b31215",
   "metadata": {
    "ExecuteTime": {
     "end_time": "2024-04-21T11:34:47.454660Z",
     "start_time": "2024-04-21T11:34:47.447495Z"
    }
   },
   "outputs": [
    {
     "name": "stdout",
     "output_type": "stream",
     "text": [
      "517\n"
     ]
    }
   ],
   "source": [
    "count = book_info.count_documents({})\n",
    "print(count)"
   ]
  },
  {
   "cell_type": "markdown",
   "id": "3eeeaefebaf5687",
   "metadata": {},
   "source": [
    "Все книги, у которых цена более чем 15.0"
   ]
  },
  {
   "cell_type": "code",
   "execution_count": 7,
   "id": "38be52ba1d98068b",
   "metadata": {
    "ExecuteTime": {
     "end_time": "2024-04-21T11:34:50.301926Z",
     "start_time": "2024-04-21T11:34:50.297989Z"
    }
   },
   "outputs": [
    {
     "name": "stdout",
     "output_type": "stream",
     "text": [
      "465\n"
     ]
    }
   ],
   "source": [
    "book_count = book_info.count_documents(filter={'price': {'$gte': 15.00}})\n",
    "print(book_count)"
   ]
  },
  {
   "cell_type": "markdown",
   "id": "30a37b41f36d47ce",
   "metadata": {},
   "source": [
    "Все книги, название которых начинается на букву 'C' и цена не больше 25.00\n"
   ]
  },
  {
   "cell_type": "code",
   "execution_count": 19,
   "id": "a3273d34f47aa618",
   "metadata": {
    "ExecuteTime": {
     "end_time": "2024-04-21T11:34:57.507157Z",
     "start_time": "2024-04-21T11:34:57.501207Z"
    }
   },
   "outputs": [
    {
     "name": "stdout",
     "output_type": "stream",
     "text": [
      "{'title': 'Camp Midnight', 'price': 17.08}\n",
      "{'title': 'Critique of Pure Reason', 'price': 20.75}\n",
      "{'title': 'Changing the Game (Play by Play #2)', 'price': 13.38}\n",
      "{'title': 'Can You Keep a Secret?', 'price': 21.94}\n",
      "{'title': 'Code Name Verity (Code Name Verity #1)', 'price': 22.13}\n",
      "{'title': 'Cell', 'price': 20.29}\n",
      "{'title': 'Cravings: Recipes for What You Want to Eat', 'price': 20.5}\n",
      "{'title': 'Counted With the Stars (Out from Egypt #1)', 'price': 17.97}\n"
     ]
    }
   ],
   "source": [
    "projection = {'_id': 0, 'title': 1, 'price': 1}\n",
    "for book in book_info.find({\"title\": {'$regex': '^C'}, 'price': {'$lte': 25.00}}, projection):\n",
    "    print(book)"
   ]
  },
  {
   "cell_type": "markdown",
   "id": "fc374c6390d06661",
   "metadata": {},
   "source": [
    "Все книги, начинающиеся на A и заканчиваются на a, и цена между 10 и 40"
   ]
  },
  {
   "cell_type": "code",
   "execution_count": 36,
   "id": "676a767483e4c272",
   "metadata": {
    "ExecuteTime": {
     "end_time": "2024-04-21T11:34:59.232837Z",
     "start_time": "2024-04-21T11:34:59.227609Z"
    }
   },
   "outputs": [
    {
     "name": "stdout",
     "output_type": "stream",
     "text": [
      "{'title': \"America's Cradle of Quarterbacks: Western Pennsylvania's Football Factory from Johnny Unitas to Joe Montana\"}\n",
      "{'title': 'Arena'}\n"
     ]
    }
   ],
   "source": [
    "for book in book_info.find({'title': {'$regex': '^A.*a$'}, 'price': {'$gte': 10, '$lt': 40}}, projection):\n",
    "    print(book)"
   ]
  },
  {
   "cell_type": "markdown",
   "id": "625f6bb2072680fa",
   "metadata": {},
   "source": [
    "Выводит названия книг, в которых присутствует Death"
   ]
  },
  {
   "cell_type": "code",
   "execution_count": 37,
   "id": "51cc194b2f909a77",
   "metadata": {
    "ExecuteTime": {
     "end_time": "2024-04-21T11:35:06.454617Z",
     "start_time": "2024-04-21T11:35:06.446753Z"
    }
   },
   "outputs": [
    {
     "name": "stdout",
     "output_type": "stream",
     "text": [
      "{'title': 'Codename Baboushka, Volume 1: The Conclave of Death'}\n",
      "{'title': 'The Death of Humanity: and the Case for Life'}\n"
     ]
    }
   ],
   "source": [
    "projection = {'_id': 0, 'title': 1}\n",
    "for book in book_info.find({\"title\": {'$regex': 'Death', '$options': 'i'}}, projection):\n",
    "    print(book)"
   ]
  },
  {
   "cell_type": "code",
   "execution_count": null,
   "id": "f0200f8c",
   "metadata": {},
   "outputs": [],
   "source": []
  }
 ],
 "metadata": {
  "kernelspec": {
   "display_name": "Python 3 (ipykernel)",
   "language": "python",
   "name": "python3"
  },
  "language_info": {
   "codemirror_mode": {
    "name": "ipython",
    "version": 3
   },
   "file_extension": ".py",
   "mimetype": "text/x-python",
   "name": "python",
   "nbconvert_exporter": "python",
   "pygments_lexer": "ipython3",
   "version": "3.11.5"
  }
 },
 "nbformat": 4,
 "nbformat_minor": 5
}
